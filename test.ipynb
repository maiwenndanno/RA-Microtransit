{
 "cells": [
  {
   "cell_type": "code",
   "execution_count": 15,
   "metadata": {},
   "outputs": [
    {
     "data": {
      "text/html": [
       "<div class=\"data-frame\"><p>31 rows × 3 columns</p><table class=\"data-frame\"><thead><tr><th></th><th>loc_id</th><th>x</th><th>y</th></tr><tr><th></th><th title=\"Int64\">Int64</th><th title=\"Int64\">Int64</th><th title=\"Int64\">Int64</th></tr></thead><tbody><tr><th>1</th><td>1</td><td>100</td><td>10</td></tr><tr><th>2</th><td>2</td><td>100</td><td>20</td></tr><tr><th>3</th><td>3</td><td>100</td><td>30</td></tr><tr><th>4</th><td>4</td><td>200</td><td>10</td></tr><tr><th>5</th><td>5</td><td>200</td><td>20</td></tr><tr><th>6</th><td>6</td><td>200</td><td>30</td></tr><tr><th>7</th><td>7</td><td>300</td><td>10</td></tr><tr><th>8</th><td>8</td><td>300</td><td>20</td></tr><tr><th>9</th><td>9</td><td>300</td><td>30</td></tr><tr><th>10</th><td>10</td><td>400</td><td>10</td></tr><tr><th>11</th><td>11</td><td>400</td><td>20</td></tr><tr><th>12</th><td>12</td><td>400</td><td>30</td></tr><tr><th>13</th><td>13</td><td>500</td><td>10</td></tr><tr><th>14</th><td>14</td><td>500</td><td>20</td></tr><tr><th>15</th><td>15</td><td>500</td><td>30</td></tr><tr><th>16</th><td>16</td><td>600</td><td>10</td></tr><tr><th>17</th><td>17</td><td>600</td><td>20</td></tr><tr><th>18</th><td>18</td><td>600</td><td>30</td></tr><tr><th>19</th><td>19</td><td>700</td><td>10</td></tr><tr><th>20</th><td>20</td><td>700</td><td>20</td></tr><tr><th>21</th><td>21</td><td>700</td><td>30</td></tr><tr><th>22</th><td>22</td><td>800</td><td>10</td></tr><tr><th>23</th><td>23</td><td>800</td><td>20</td></tr><tr><th>24</th><td>24</td><td>800</td><td>30</td></tr><tr><th>25</th><td>25</td><td>900</td><td>10</td></tr><tr><th>26</th><td>26</td><td>900</td><td>20</td></tr><tr><th>27</th><td>27</td><td>900</td><td>30</td></tr><tr><th>28</th><td>28</td><td>1000</td><td>10</td></tr><tr><th>29</th><td>29</td><td>1000</td><td>20</td></tr><tr><th>30</th><td>30</td><td>1000</td><td>30</td></tr><tr><th>&vellip;</th><td>&vellip;</td><td>&vellip;</td><td>&vellip;</td></tr></tbody></table></div>"
      ],
      "text/latex": [
       "\\begin{tabular}{r|ccc}\n",
       "\t& loc\\_id & x & y\\\\\n",
       "\t\\hline\n",
       "\t& Int64 & Int64 & Int64\\\\\n",
       "\t\\hline\n",
       "\t1 & 1 & 100 & 10 \\\\\n",
       "\t2 & 2 & 100 & 20 \\\\\n",
       "\t3 & 3 & 100 & 30 \\\\\n",
       "\t4 & 4 & 200 & 10 \\\\\n",
       "\t5 & 5 & 200 & 20 \\\\\n",
       "\t6 & 6 & 200 & 30 \\\\\n",
       "\t7 & 7 & 300 & 10 \\\\\n",
       "\t8 & 8 & 300 & 20 \\\\\n",
       "\t9 & 9 & 300 & 30 \\\\\n",
       "\t10 & 10 & 400 & 10 \\\\\n",
       "\t11 & 11 & 400 & 20 \\\\\n",
       "\t12 & 12 & 400 & 30 \\\\\n",
       "\t13 & 13 & 500 & 10 \\\\\n",
       "\t14 & 14 & 500 & 20 \\\\\n",
       "\t15 & 15 & 500 & 30 \\\\\n",
       "\t16 & 16 & 600 & 10 \\\\\n",
       "\t17 & 17 & 600 & 20 \\\\\n",
       "\t18 & 18 & 600 & 30 \\\\\n",
       "\t19 & 19 & 700 & 10 \\\\\n",
       "\t20 & 20 & 700 & 20 \\\\\n",
       "\t21 & 21 & 700 & 30 \\\\\n",
       "\t22 & 22 & 800 & 10 \\\\\n",
       "\t23 & 23 & 800 & 20 \\\\\n",
       "\t24 & 24 & 800 & 30 \\\\\n",
       "\t25 & 25 & 900 & 10 \\\\\n",
       "\t26 & 26 & 900 & 20 \\\\\n",
       "\t27 & 27 & 900 & 30 \\\\\n",
       "\t28 & 28 & 1000 & 10 \\\\\n",
       "\t29 & 29 & 1000 & 20 \\\\\n",
       "\t30 & 30 & 1000 & 30 \\\\\n",
       "\t$\\dots$ & $\\dots$ & $\\dots$ & $\\dots$ \\\\\n",
       "\\end{tabular}\n"
      ],
      "text/plain": [
       "\u001b[1m31×3 DataFrame\u001b[0m\n",
       "\u001b[1m Row \u001b[0m│\u001b[1m loc_id \u001b[0m\u001b[1m x     \u001b[0m\u001b[1m y     \u001b[0m\n",
       "\u001b[1m     \u001b[0m│\u001b[90m Int64  \u001b[0m\u001b[90m Int64 \u001b[0m\u001b[90m Int64 \u001b[0m\n",
       "─────┼──────────────────────\n",
       "   1 │      1    100     10\n",
       "   2 │      2    100     20\n",
       "   3 │      3    100     30\n",
       "   4 │      4    200     10\n",
       "   5 │      5    200     20\n",
       "   6 │      6    200     30\n",
       "   7 │      7    300     10\n",
       "   8 │      8    300     20\n",
       "   9 │      9    300     30\n",
       "  10 │     10    400     10\n",
       "  11 │     11    400     20\n",
       "  ⋮  │   ⋮       ⋮      ⋮\n",
       "  22 │     22    800     10\n",
       "  23 │     23    800     20\n",
       "  24 │     24    800     30\n",
       "  25 │     25    900     10\n",
       "  26 │     26    900     20\n",
       "  27 │     27    900     30\n",
       "  28 │     28   1000     10\n",
       "  29 │     29   1000     20\n",
       "  30 │     30   1000     30\n",
       "  31 │    999      0      0\n",
       "\u001b[36m             10 rows omitted\u001b[0m"
      ]
     },
     "execution_count": 15,
     "metadata": {},
     "output_type": "execute_result"
    }
   ],
   "source": [
    "using CSV, DataFrames\n",
    "map_title= \"vbs_U30_BIG_cust_C20_BIG\"\n",
    "datafolder=\"data/\"*map_title*\"/\";\n",
    "locs = CSV.read(datafolder*\"locations.csv\", DataFrame)\n"
   ]
  },
  {
   "cell_type": "code",
   "execution_count": 20,
   "metadata": {},
   "outputs": [
    {
     "data": {
      "text/html": [
       "<div class=\"data-frame\"><p>3 rows × 3 columns</p><table class=\"data-frame\"><thead><tr><th></th><th>loc_id</th><th>x</th><th>y</th></tr><tr><th></th><th title=\"Int64\">Int64</th><th title=\"Int64\">Int64</th><th title=\"Int64\">Int64</th></tr></thead><tbody><tr><th>1</th><td>2</td><td>100</td><td>20</td></tr><tr><th>2</th><td>3</td><td>100</td><td>30</td></tr><tr><th>3</th><td>4</td><td>200</td><td>10</td></tr></tbody></table></div>"
      ],
      "text/latex": [
       "\\begin{tabular}{r|ccc}\n",
       "\t& loc\\_id & x & y\\\\\n",
       "\t\\hline\n",
       "\t& Int64 & Int64 & Int64\\\\\n",
       "\t\\hline\n",
       "\t1 & 2 & 100 & 20 \\\\\n",
       "\t2 & 3 & 100 & 30 \\\\\n",
       "\t3 & 4 & 200 & 10 \\\\\n",
       "\\end{tabular}\n"
      ],
      "text/plain": [
       "\u001b[1m3×3 DataFrame\u001b[0m\n",
       "\u001b[1m Row \u001b[0m│\u001b[1m loc_id \u001b[0m\u001b[1m x     \u001b[0m\u001b[1m y     \u001b[0m\n",
       "\u001b[1m     \u001b[0m│\u001b[90m Int64  \u001b[0m\u001b[90m Int64 \u001b[0m\u001b[90m Int64 \u001b[0m\n",
       "─────┼──────────────────────\n",
       "   1 │      2    100     20\n",
       "   2 │      3    100     30\n",
       "   3 │      4    200     10"
      ]
     },
     "execution_count": 20,
     "metadata": {},
     "output_type": "execute_result"
    }
   ],
   "source": [
    "vbs_ind=[2,3,4]\n",
    "vbs=locs[findall(in(vbs_ind),locs.loc_id),:]"
   ]
  },
  {
   "cell_type": "code",
   "execution_count": null,
   "metadata": {},
   "outputs": [],
   "source": []
  }
 ],
 "metadata": {
  "kernelspec": {
   "display_name": "Julia 1.7.3",
   "language": "julia",
   "name": "julia-1.7"
  },
  "language_info": {
   "file_extension": ".jl",
   "mimetype": "application/julia",
   "name": "julia",
   "version": "1.7.3"
  },
  "orig_nbformat": 4
 },
 "nbformat": 4,
 "nbformat_minor": 2
}
