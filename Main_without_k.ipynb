{
 "cells": [
  {
   "cell_type": "code",
   "execution_count": 95,
   "metadata": {},
   "outputs": [],
   "source": [
    "using JuMP, Gurobi, Random, CSV, DataFrames, Statistics, JLD2, FileIO, DelimitedFiles\n",
    "\n",
    "model_type=\"model_without_k\";\n",
    "include(\"scripts/\"*model_type*\"/display.jl\"); include(\"scripts/\"*model_type*\"/model.jl\"); include(\"scripts/\"*model_type*\"/run.jl\"); include(\"data/map_config.jl\");"
   ]
  },
  {
   "cell_type": "code",
   "execution_count": 85,
   "metadata": {},
   "outputs": [],
   "source": [
    "# Benchmarks definition\n",
    "b1=Dict(\"Name\"=> \"1)\", \"Transfer\"=> false, \"Flexible\" => false, \"High capacity\" => false);\n",
    "b2=Dict(\"Name\"=> \"2)\", \"Transfer\"=> false, \"Flexible\" => false, \"High capacity\" => true); # We take high capacity busses\n",
    "b3=Dict(\"Name\"=> \"3)\", \"Transfer\"=> false, \"Flexible\" => true, \"High capacity\" => true); # We take high capacity busses + Flexible assign\n",
    "b4=Dict(\"Name\"=> \"4)\", \"Transfer\"=> true, \"Flexible\" => true, \"High capacity\" => true); # We take high capacity busses + Flexible assign + Transfer"
   ]
  },
  {
   "attachments": {},
   "cell_type": "markdown",
   "metadata": {},
   "source": [
    "### Inputs"
   ]
  },
  {
   "cell_type": "code",
   "execution_count": 86,
   "metadata": {},
   "outputs": [],
   "source": [
    "# Map Inputs\n",
    "map_type=\"clust_map_5\";\n",
    "\n",
    "# Model Inputs\n",
    "benchmark=b4;\n",
    "G = 0.5 # max detour ratio for customers (traveling time < (1+G)gamma)\n",
    "Gtype= \"shortestpathpercent\" # or \"absolutetime\"\n",
    "\n",
    "map_inputs,Wk,Q=create_inputs(map_type,benchmark);\n",
    "(map_title,hubs_id,vbs_id,nb_locs,cust_id,nb_cust,depot_locs,horizon,tstep,park_slots)=map_inputs;\n",
    "model_inputs = (G,Gtype,Wk,Q);"
   ]
  },
  {
   "attachments": {},
   "cell_type": "markdown",
   "metadata": {},
   "source": [
    "### Display map & create network"
   ]
  },
  {
   "cell_type": "code",
   "execution_count": 87,
   "metadata": {},
   "outputs": [],
   "source": [
    "data, map1, tsnetwork, params, abbrev, pre_time = create_network(map_inputs, model_inputs,benchmark);\n",
    "q, t, I, K=abbrev;"
   ]
  },
  {
   "cell_type": "code",
   "execution_count": 88,
   "metadata": {},
   "outputs": [],
   "source": [
    "# Show map\n",
    "#display(map1)\n",
    "#print_cust_bus_details(params,abbrev,data.locs_id)"
   ]
  },
  {
   "cell_type": "code",
   "execution_count": 83,
   "metadata": {},
   "outputs": [],
   "source": [
    "# Print number of nodes and arcs\n",
    "#print_nb_arcs(tsnetwork,params,I)\n"
   ]
  },
  {
   "cell_type": "code",
   "execution_count": 84,
   "metadata": {},
   "outputs": [],
   "source": [
    "# To visualize some arcs\n",
    "#timespaceviz_arcs(\"viz.png\", horizon, tstep, tsnetwork, tsnetwork.A_plus[56],data.locs_id,data.locs_desc, x_size=2000, y_size=1000)"
   ]
  },
  {
   "attachments": {},
   "cell_type": "markdown",
   "metadata": {},
   "source": [
    "### Run model & Save results"
   ]
  },
  {
   "cell_type": "code",
   "execution_count": 89,
   "metadata": {},
   "outputs": [],
   "source": [
    "# Model objective coefficients\n",
    "mu=1 # coefficient in front of walking time\n",
    "beta=1 # coefficient in front of waiting time\n",
    "lambda=1 # transfer penalty\n",
    "alpha1=1 # coefficient in front of vehicle driving time \n",
    "nu=20 # coefficient in front of vehicle utilization\n",
    "alpha2=0 # coefficient in front of unmet demand\n",
    "coefficients=mu,beta,lambda,alpha1,nu,alpha2;"
   ]
  },
  {
   "cell_type": "code",
   "execution_count": 91,
   "metadata": {},
   "outputs": [
    {
     "name": "stdout",
     "output_type": "stream",
     "text": [
      "Set parameter Username\n",
      "Academic license - for non-commercial use only - expires 2023-09-04\n",
      "Gurobi Optimizer version 9.5.2 build v9.5.2rc0 (mac64[rosetta2])\n",
      "Thread count: 8 physical cores, 8 logical processors, using up to 8 threads\n",
      "Optimize a model with 252446 rows, 71143 columns and 446635 nonzeros\n",
      "Model fingerprint: 0xb6343e2e\n",
      "Variable types: 0 continuous, 71143 integer (71143 binary)\n",
      "Coefficient statistics:\n",
      "  Matrix range     [1e+00, 4e+01]\n",
      "  Objective range  [2e+01, 7e+03]\n",
      "  Bounds range     [0e+00, 0e+00]\n",
      "  RHS range        [1e+00, 1e+00]\n",
      "Presolve removed 216389 rows and 42146 columns\n",
      "Presolve time: 4.56s\n",
      "Presolved: 36057 rows, 28997 columns, 152844 nonzeros\n",
      "Variable types: 0 continuous, 28997 integer (28997 binary)\n",
      "\n",
      "Deterministic concurrent LP optimizer: primal and dual simplex\n",
      "Showing first log only...\n",
      "\n",
      "\n",
      "Root simplex log...\n",
      "\n",
      "Iteration    Objective       Primal Inf.    Dual Inf.      Time\n",
      "    4876    8.2595477e+04   7.193843e-01   1.855998e+09      5s\n",
      "Concurrent spin time: 0.01s\n",
      "\n",
      "Solved with dual simplex\n",
      "\n",
      "Root relaxation: objective 5.346155e+04, 3060 iterations, 0.39 seconds (0.71 work units)\n",
      "\n",
      "    Nodes    |    Current Node    |     Objective Bounds      |     Work\n",
      " Expl Unexpl |  Obj  Depth IntInf | Incumbent    BestBd   Gap | It/Node Time\n",
      "\n",
      "     0     0 53461.5487    0   47          - 53461.5487      -     -    5s\n",
      "H    0     0                    57453.614984 53461.5487  6.95%     -    5s\n",
      "H    0     0                    53463.548705 53461.5487  0.00%     -    5s\n",
      "\n",
      "Explored 1 nodes (3648 simplex iterations) in 5.59 seconds (8.54 work units)\n",
      "Thread count was 8 (of 8 available processors)\n",
      "\n",
      "Solution count 2: 53463.5 57453.6 \n",
      "\n",
      "Optimal solution found (tolerance 1.00e-04)\n",
      "Best objective 5.346354870463e+04, best bound 5.346154870463e+04, gap 0.0037%\n",
      "\n",
      "User-callback calls 3663, time in user-callback 0.01 sec\n",
      "Objective value: 53463.54870462905\n"
     ]
    }
   ],
   "source": [
    "sol=network_model(Q,abbrev,data.wo,tsnetwork,params,coefficients,1);"
   ]
  },
  {
   "cell_type": "code",
   "execution_count": 92,
   "metadata": {},
   "outputs": [
    {
     "name": "stdout",
     "output_type": "stream",
     "text": [
      "Set parameter Username\n",
      "Academic license - for non-commercial use only - expires 2023-09-04\n",
      "Gurobi Optimizer version 9.5.2 build v9.5.2rc0 (mac64[rosetta2])\n",
      "Thread count: 8 physical cores, 8 logical processors, using up to 8 threads\n",
      "Optimize a model with 252446 rows, 64188 columns and 357495 nonzeros\n",
      "Model fingerprint: 0xd8763da5\n",
      "Variable types: 0 continuous, 64188 integer (64188 binary)\n",
      "Coefficient statistics:\n",
      "  Matrix range     [1e+00, 4e+01]\n",
      "  Objective range  [4e+02, 7e+03]\n",
      "  Bounds range     [0e+00, 0e+00]\n",
      "  RHS range        [1e+00, 1e+01]\n",
      "Presolve removed 252446 rows and 64188 columns\n",
      "Presolve time: 0.08s\n",
      "Presolve: All rows and columns removed\n",
      "\n",
      "Explored 0 nodes (0 simplex iterations) in 0.11 seconds (0.22 work units)\n",
      "Thread count was 1 (of 8 available processors)\n",
      "\n",
      "Solution count 1: 53463.5 \n",
      "\n",
      "Optimal solution found (tolerance 1.00e-04)\n",
      "Best objective 5.346354870463e+04, best bound 5.346354870463e+04, gap 0.0000%\n",
      "\n",
      "User-callback calls 713, time in user-callback 0.00 sec\n",
      "Objective value: 53463.54870462905\n"
     ]
    }
   ],
   "source": [
    "# Fix z and resolve\n",
    "sol2=network_model_zfixed(Q,abbrev,data.wo,tsnetwork,params,coefficients,sol.z,1);"
   ]
  },
  {
   "cell_type": "code",
   "execution_count": 94,
   "metadata": {},
   "outputs": [
    {
     "name": "stdout",
     "output_type": "stream",
     "text": [
      "Set parameter Username\n",
      "Academic license - for non-commercial use only - expires 2023-09-04\n",
      "Gurobi Optimizer version 9.5.2 build v9.5.2rc0 (mac64[rosetta2])\n",
      "Thread count: 8 physical cores, 8 logical processors, using up to 8 threads\n",
      "Optimize a model with 252446 rows, 63915 columns and 293125 nonzeros\n",
      "Model fingerprint: 0x4bd6d82f\n",
      "Variable types: 0 continuous, 63915 integer (63915 binary)\n",
      "Coefficient statistics:\n",
      "  Matrix range     [1e+00, 4e+01]\n",
      "  Objective range  [5e+02, 7e+03]\n",
      "  Bounds range     [0e+00, 0e+00]\n",
      "  RHS range        [1e+00, 1e+01]\n",
      "Found heuristic solution: objective 53463.548705\n",
      "Presolve removed 252446 rows and 63915 columns\n",
      "Presolve time: 0.04s\n",
      "Presolve: All rows and columns removed\n",
      "\n",
      "Explored 0 nodes (0 simplex iterations) in 0.07 seconds (0.11 work units)\n",
      "Thread count was 1 (of 8 available processors)\n",
      "\n",
      "Solution count 1: 53463.5 \n",
      "\n",
      "Optimal solution found (tolerance 1.00e-04)\n",
      "Best objective 5.346354870463e+04, best bound 5.346354870463e+04, gap 0.0000%\n",
      "\n",
      "User-callback calls 161, time in user-callback 0.00 sec\n",
      "Objective value: 53463.54870462905\n"
     ]
    },
    {
     "data": {
      "text/plain": [
       "(xi =   [1, Dict{String, Real}(\"transfer\" => 0, \"wo\" => 1292.5, \"walking\" => 1788.14, \"o\" => 4, \"wd\" => 495.65, \"d\" => 6)                 ]  =  1.0\n",
       "  [10, Dict{String, Real}(\"transfer\" => 0, \"wo\" => 1277.25, \"walking\" => 1986.17, \"o\" => 4, \"wd\" => 708.91, \"d\" => 5)               ]  =  0.0\n",
       "  [2, Dict{String, Any}(\"transfer\" => 1, \"wo\" => 1338.54, \"walking\" => 2010.54, \"o\" => 4, \"h\" => [2, 11], \"wd\" => 672.0, \"d\" => 6)  ]  =  0.0\n",
       "  [2, Dict{String, Any}(\"transfer\" => 1, \"wo\" => 1338.54, \"walking\" => 2010.54, \"o\" => 4, \"h\" => [4, 12], \"wd\" => 672.0, \"d\" => 6)  ]  =  0.0\n",
       "  [2, Dict{String, Any}(\"transfer\" => 1, \"wo\" => 528.85, \"walking\" => 1200.85, \"o\" => 2, \"h\" => [4, 12], \"wd\" => 672.0, \"d\" => 6)   ]  =  0.0\n",
       "  [2, Dict{String, Real}(\"transfer\" => 0, \"wo\" => 528.85, \"walking\" => 1200.85, \"o\" => 2, \"wd\" => 672.0, \"d\" => 6)                  ]  =  -0.0\n",
       "  [3, Dict{String, Any}(\"transfer\" => 1, \"wo\" => 432.0, \"walking\" => 1855.2, \"o\" => 3, \"h\" => [2, 11], \"wd\" => 1423.2, \"d\" => 7)    ]  =  0.0\n",
       "  [3, Dict{String, Real}(\"transfer\" => 0, \"wo\" => 432.0, \"walking\" => 1286.11, \"o\" => 3, \"wd\" => 854.11, \"d\" => 6)                  ]  =  -0.0\n",
       "                                                                                                                                       ⋮\n",
       "  [4, Dict{String, Any}(\"transfer\" => 1, \"wo\" => 1008.45, \"walking\" => 1224.78, \"o\" => 2, \"h\" => [2, 11], \"wd\" => 216.33, \"d\" => 9) ]  =  0.0\n",
       "  [4, Dict{String, Any}(\"transfer\" => 1, \"wo\" => 1008.45, \"walking\" => 2215.92, \"o\" => 2, \"h\" => [2, 11], \"wd\" => 1207.48, \"d\" => 7)]  =  0.0\n",
       "  [4, Dict{String, Any}(\"transfer\" => 1, \"wo\" => 194.33, \"walking\" => 1610.38, \"o\" => 3, \"h\" => [4, 12], \"wd\" => 1416.05, \"d\" => 8) ]  =  -0.0\n",
       "  [4, Dict{String, Real}(\"transfer\" => 0, \"wo\" => 194.33, \"walking\" => 1178.4, \"o\" => 3, \"wd\" => 984.07, \"d\" => 10)                 ]  =  -0.0\n",
       "  [6, Dict{String, Real}(\"transfer\" => 0, \"wo\" => 1057.7, \"walking\" => 2334.96, \"o\" => 2, \"wd\" => 1277.25, \"d\" => 7)                ]  =  -0.0\n",
       "  [7, Dict{String, Real}(\"transfer\" => 0, \"wo\" => 936.48, \"walking\" => 1752.48, \"o\" => 2, \"wd\" => 816.0, \"d\" => 9)                  ]  =  -0.0\n",
       "  [7, Dict{String, Real}(\"transfer\" => 0, \"wo\" => 936.48, \"walking\" => 2387.64, \"o\" => 11, \"wd\" => 1451.16, \"d\" => 7)               ]  =  -0.0, x =   [1, 3718, Dict{String, Any}(\"transfer\" => 1, \"wo\" => 294.18, \"walking\" => 1646.83, \"o\" => 11, \"h\" => [4, 12], \"wd\" => 1352.65, \"d\" => 7)]  =  0.0\n",
       "  [1, 3753, Dict{String, Any}(\"transfer\" => 1, \"wo\" => 294.18, \"walking\" => 789.83, \"o\" => 11, \"h\" => [4, 12], \"wd\" => 495.65, \"d\" => 6)  ]  =  0.0\n",
       "  [1, 3792, Dict{String, Real}(\"transfer\" => 0, \"wo\" => 294.18, \"walking\" => 1646.83, \"o\" => 11, \"wd\" => 1352.65, \"d\" => 7)               ]  =  0.0\n",
       "  [1, 3885, Dict{String, Real}(\"transfer\" => 0, \"wo\" => 294.18, \"walking\" => 789.83, \"o\" => 2, \"wd\" => 495.65, \"d\" => 6)                  ]  =  0.0\n",
       "  [3, 520, Dict{String, Real}(\"transfer\" => 0, \"wo\" => 768.0, \"walking\" => 1622.11, \"o\" => 2, \"wd\" => 854.11, \"d\" => 6)                   ]  =  0.0\n",
       "  [4, 419, Dict{String, Real}(\"transfer\" => 0, \"wo\" => 1008.45, \"walking\" => 1992.52, \"o\" => 11, \"wd\" => 984.07, \"d\" => 10)               ]  =  0.0\n",
       "  [4, 4324, Dict{String, Any}(\"transfer\" => 1, \"wo\" => 194.33, \"walking\" => 410.66, \"o\" => 3, \"h\" => [4, 12], \"wd\" => 216.33, \"d\" => 9)   ]  =  0.0\n",
       "  [4, 581, Dict{String, Any}(\"transfer\" => 1, \"wo\" => 194.33, \"walking\" => 1178.4, \"o\" => 3, \"h\" => [4, 12], \"wd\" => 984.07, \"d\" => 10)   ]  =  0.0\n",
       "                                                                                                                                             ⋮\n",
       "  [4, 899, Dict{String, Any}(\"transfer\" => 1, \"wo\" => 1008.45, \"walking\" => 1224.78, \"o\" => 11, \"h\" => [4, 12], \"wd\" => 216.33, \"d\" => 9) ]  =  0.0\n",
       "  [5, 4001, Dict{String, Any}(\"transfer\" => 1, \"wo\" => 76.84, \"walking\" => 413.69, \"o\" => 3, \"h\" => [4, 12], \"wd\" => 336.86, \"d\" => 9)    ]  =  0.0\n",
       "  [5, 4294, Dict{String, Real}(\"transfer\" => 0, \"wo\" => 1249.44, \"walking\" => 1586.3, \"o\" => 2, \"wd\" => 336.86, \"d\" => 9)                 ]  =  0.0\n",
       "  [5, 6681, Dict{String, Any}(\"transfer\" => 1, \"wo\" => 1249.44, \"walking\" => 2113.77, \"o\" => 2, \"h\" => [2, 11], \"wd\" => 864.33, \"d\" => 10)]  =  0.0\n",
       "  [6, 279, Dict{String, Any}(\"transfer\" => 1, \"wo\" => 1057.7, \"walking\" => 2334.96, \"o\" => 2, \"h\" => [2, 11], \"wd\" => 1277.25, \"d\" => 7)  ]  =  0.0\n",
       "  [7, 1631, Dict{String, Any}(\"transfer\" => 1, \"wo\" => 936.48, \"walking\" => 2387.64, \"o\" => 11, \"h\" => [2, 11], \"wd\" => 1451.16, \"d\" => 7)]  =  0.0\n",
       "  [8, 1216, Dict{String, Any}(\"transfer\" => 1, \"wo\" => 816.0, \"walking\" => 1873.7, \"o\" => 11, \"h\" => [4, 12], \"wd\" => 1057.7, \"d\" => 9)   ]  =  0.0, z = 1-dimensional DenseAxisArray{Float64,1,...} with index sets:\n",
       "    Dimension 1, Any[4515, 3782, 6724, 3703, 3369, 20, 1763, 549, 6628, 941  …  4018, 2473, 4019, 5339, 5709, 2297, 4153, 4589, 2162, 112]\n",
       "And data, a 6955-element Vector{Float64}:\n",
       " -0.0\n",
       " -0.0\n",
       " -0.0\n",
       " -0.0\n",
       " -0.0\n",
       " -0.0\n",
       " -0.0\n",
       " -0.0\n",
       " -0.0\n",
       " -0.0\n",
       "  ⋮\n",
       " -0.0\n",
       " -0.0\n",
       " -0.0\n",
       " -0.0\n",
       " -0.0\n",
       " -0.0\n",
       " -0.0\n",
       " -0.0\n",
       " -0.0, obj = 53463.54870462905, time = 0.430818958, objs = Dict(\"Cust driving\" => 30064.5, \"Wait\" => 2161.61, \"Veh_nb\" => 2.0, \"Unmet\" => 0.0, \"Veh driving\" => 6032.25, \"Tr\" => 2.0, \"Walk\" => 15163.2))"
      ]
     },
     "metadata": {},
     "output_type": "display_data"
    }
   ],
   "source": [
    "# Fix z and xi and resolve\n",
    "sol3=network_model_z_xifixed(Q,abbrev,data.wo,tsnetwork,params,coefficients,sol.z,sol.xi,1)"
   ]
  },
  {
   "attachments": {},
   "cell_type": "markdown",
   "metadata": {},
   "source": [
    "Save solution"
   ]
  },
  {
   "cell_type": "code",
   "execution_count": 87,
   "metadata": {},
   "outputs": [],
   "source": [
    "save_res = true; # to save the results in the result folder\n",
    "include(\"scripts/\"*model_type*\"/display.jl\")\n",
    "if save_res\n",
    "    benchmark_name=string(benchmark[\"Name\"])*\"Tr_\"*string(benchmark[\"Transfer\"])*\"_Flex_\"*string(benchmark[\"Flexible\"])*\"_HighCap_\"*string(benchmark[\"High capacity\"])\n",
    "    resultfolder=\"results/\"*model_type*\"/\"*map_type*\"/\"*benchmark_name*\"/\";\n",
    "    #resultfolder=\"results/\"*model_type*\"/\"*map_type*\"/\";\n",
    "    \n",
    "    if !isdir(resultfolder)\n",
    "        mkdir(resultfolder)\n",
    "    end\n",
    "    jldsave(resultfolder*\"solution.jld2\", xi=sol.xi, x=sol.x, z=sol.z)\n",
    "    write_result(resultfolder*\"res.txt\",sol,tsnetwork,params,abbrev,data.wo,data.locs_id,false)\n",
    "end"
   ]
  },
  {
   "attachments": {},
   "cell_type": "markdown",
   "metadata": {},
   "source": [
    "### Visualizations"
   ]
  },
  {
   "cell_type": "code",
   "execution_count": 88,
   "metadata": {},
   "outputs": [],
   "source": [
    "#xi,x,z=load(resultfolder*\"solution.jld2\", \"xi\", \"x\", \"z\");"
   ]
  },
  {
   "cell_type": "code",
   "execution_count": 81,
   "metadata": {},
   "outputs": [],
   "source": [
    "#timespaceviz_arcs(resultfolder*\"arcsplot.png\",horizon, tstep, tsnetwork, params.Ai[1], data.locs_id,data.locs_desc; x_size=2000, y_size=1000)"
   ]
  },
  {
   "cell_type": "code",
   "execution_count": 82,
   "metadata": {},
   "outputs": [],
   "source": [
    "#timespaceviz_bus(resultfolder*\"tsplot.png\", horizon, tstep, tsnetwork, params, sol.z, data.locs_id, data.locs_desc,x_size=2000, y_size=1000)"
   ]
  },
  {
   "cell_type": "code",
   "execution_count": 83,
   "metadata": {},
   "outputs": [],
   "source": [
    "#ts=0 # time from which we want to print the arcs\n",
    "#map2=print_traveling_arcs(sol,ts,map1,data.locs,tsnetwork,params,horizon,data.locs_id,data.locs_desc,true,save_res,resultfolder)"
   ]
  },
  {
   "cell_type": "code",
   "execution_count": 61,
   "metadata": {},
   "outputs": [],
   "source": []
  },
  {
   "cell_type": "code",
   "execution_count": 62,
   "metadata": {},
   "outputs": [],
   "source": []
  }
 ],
 "metadata": {
  "kernelspec": {
   "display_name": "Julia 1.7.3",
   "language": "julia",
   "name": "julia-1.7"
  },
  "language_info": {
   "file_extension": ".jl",
   "mimetype": "application/julia",
   "name": "julia",
   "version": "1.7.3"
  },
  "orig_nbformat": 4
 },
 "nbformat": 4,
 "nbformat_minor": 2
}
